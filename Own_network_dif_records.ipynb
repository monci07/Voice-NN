{
 "cells": [
  {
   "cell_type": "code",
   "execution_count": 1,
   "id": "1e60731c",
   "metadata": {},
   "outputs": [],
   "source": [
    "import numpy as np\n",
    "import random\n",
    "import time\n",
    "import pyaudio\n",
    "import struct"
   ]
  },
  {
   "cell_type": "code",
   "execution_count": 2,
   "id": "b0a080bd",
   "metadata": {},
   "outputs": [],
   "source": [
    "CHUNK = 1024\n",
    "FORMAT = pyaudio.paFloat32\n",
    "CHANNELS = 1\n",
    "RATE = 44100\n",
    "RECORD_SECONDS = 1.01\n",
    "\n",
    "p = pyaudio.PyAudio()\n",
    "\n",
    "inputs = p.open(format=FORMAT,\n",
    "                channels=CHANNELS,\n",
    "                rate=RATE,\n",
    "                input=True,\n",
    "                frames_per_buffer=CHUNK)\n",
    "outputs = p.open(format=FORMAT,\n",
    "                channels=CHANNELS,\n",
    "                rate=RATE,\n",
    "                output=True,\n",
    "                frames_per_buffer=CHUNK)"
   ]
  },
  {
   "cell_type": "code",
   "execution_count": 3,
   "id": "fed621aa",
   "metadata": {},
   "outputs": [],
   "source": [
    "def play_sound(array):\n",
    "    for i in range(len(array)):\n",
    "        outputs.write(array[i])"
   ]
  },
  {
   "cell_type": "code",
   "execution_count": 4,
   "id": "e732cf78",
   "metadata": {},
   "outputs": [],
   "source": [
    "test = np.load(\"./Act_train/activation/5.npy\").flatten()\n",
    "play_sound(test)"
   ]
  },
  {
   "cell_type": "code",
   "execution_count": 5,
   "id": "4e84591b",
   "metadata": {},
   "outputs": [],
   "source": [
    "test = np.load(\"./Act_train/negative/30.npy\").flatten()\n",
    "play_sound(test)"
   ]
  },
  {
   "cell_type": "code",
   "execution_count": 6,
   "id": "7688c46c",
   "metadata": {},
   "outputs": [],
   "source": [
    "act = []\n",
    "for i in range(15):\n",
    "    act.append(np.frombuffer(np.load(\"./Act_train/activation/\"+str(i+1)+\".npy\").flatten()))"
   ]
  },
  {
   "cell_type": "code",
   "execution_count": 7,
   "id": "74de8316",
   "metadata": {},
   "outputs": [],
   "source": [
    "neg = []\n",
    "for i in range(120):\n",
    "    neg.append(np.frombuffer(np.load(\"./Act_train/negative/\"+str(i+1)+\".npy\").flatten()))"
   ]
  },
  {
   "cell_type": "code",
   "execution_count": 8,
   "id": "a0d2e5ff",
   "metadata": {
    "scrolled": true
   },
   "outputs": [
    {
     "name": "stdout",
     "output_type": "stream",
     "text": [
      "(15, 22016)\n",
      "(120, 22016)\n",
      "(22016,)\n",
      "(22016,)\n"
     ]
    }
   ],
   "source": [
    "act, neg = np.array(act), np.array(neg)\n",
    "print(act.shape)\n",
    "print(neg.shape)\n",
    "print(act[0].shape)\n",
    "print(neg[0].shape)"
   ]
  },
  {
   "cell_type": "code",
   "execution_count": 9,
   "id": "7dd799ee",
   "metadata": {},
   "outputs": [],
   "source": [
    "Tx = 1376 # The number of time steps input to the model from the spectrogram\n",
    "n_freq = 16"
   ]
  },
  {
   "cell_type": "code",
   "execution_count": 10,
   "id": "7c6dfd96",
   "metadata": {},
   "outputs": [],
   "source": [
    "def create_training_example(activates, negatives):\n",
    "    \"\"\"\n",
    "    Creates a training example with a given background, activates, and negatives.\n",
    "    \n",
    "    Arguments:\n",
    "    background -- a 10 second background audio recording\n",
    "    activates -- a list of audio segments of the word \"activate\"\n",
    "    negatives -- a list of audio segments of random words that are not \"activate\"\n",
    "    Ty -- The number of time steps in the output\n",
    "\n",
    "    Returns:\n",
    "    x -- the spectrogram of the training example\n",
    "    y -- the label at each time step of the spectrogram\n",
    "    \"\"\"\n",
    "\n",
    "    y = 0\n",
    "    x = None\n",
    "    flag = np.random.randint(1, 121)\n",
    "    if flag%5==0:\n",
    "        x = activates[np.random.choice(len(activates))]\n",
    "        y = 1\n",
    "    else:\n",
    "        x = negatives[np.random.choice(len(negatives))]\n",
    "    \n",
    "    return x, y"
   ]
  },
  {
   "cell_type": "code",
   "execution_count": null,
   "id": "b76f935e",
   "metadata": {},
   "outputs": [],
   "source": [
    "#print(len(act[0]))\n",
    "#graph_spectrogram(act[0])"
   ]
  },
  {
   "cell_type": "code",
   "execution_count": null,
   "id": "e1ca29e2",
   "metadata": {},
   "outputs": [],
   "source": [
    "x, y = create_training_example(act, neg)\n",
    "print(type(x))\n",
    "print(type(x[0]))\n",
    "print(type(y))\n",
    "print(y)\n",
    "print(x)"
   ]
  },
  {
   "cell_type": "code",
   "execution_count": null,
   "id": "f514dd7f",
   "metadata": {},
   "outputs": [],
   "source": [
    "nsamples = 3000"
   ]
  },
  {
   "cell_type": "code",
   "execution_count": null,
   "id": "b6036166",
   "metadata": {},
   "outputs": [],
   "source": [
    "nsamples = 3000\n",
    "X = []\n",
    "Y = []\n",
    "for i in range(0, nsamples):\n",
    "    if i%100 == 0:\n",
    "        print(i)\n",
    "    x, y = create_training_example(act, neg)\n",
    "    X.append(x)\n",
    "    Y.append(y)\n",
    "X = np.array(X)\n",
    "Y = np.array(Y).reshape((nsamples, 1))"
   ]
  },
  {
   "cell_type": "code",
   "execution_count": 12,
   "id": "90eae90d",
   "metadata": {},
   "outputs": [
    {
     "name": "stdout",
     "output_type": "stream",
     "text": [
      "(3000, 22016)\n",
      "(3000, 1)\n",
      "True\n"
     ]
    }
   ],
   "source": [
    "print(X.shape)\n",
    "print(Y.shape)\n",
    "print(\"True\" if 1 in Y else \"False\")"
   ]
  },
  {
   "cell_type": "code",
   "execution_count": 10,
   "id": "f4d2ee89",
   "metadata": {},
   "outputs": [],
   "source": [
    "# Save the data for further uses\n",
    "#np.save(f'./Act_train/XY_train/X.npy', X)\n",
    "#np.save(f'./Act_train/XY_train/Y.npy', Y)\n",
    "# Load the preprocessed training examples\n",
    "X = np.load(\"./Act_train/XY_train/X.npy\")\n",
    "Y = np.load(\"./Act_train/XY_train/Y.npy\")"
   ]
  },
  {
   "cell_type": "code",
   "execution_count": null,
   "id": "7f6a055d",
   "metadata": {},
   "outputs": [],
   "source": [
    "X_dev = []\n",
    "Y_dev = []\n",
    "for i in range(0, nsamples):\n",
    "    if i%100 == 0:\n",
    "        print(i)\n",
    "    x, y = create_training_example(act, neg)\n",
    "    X_dev.append(x)\n",
    "    Y_dev.append(y)\n",
    "X_dev = np.array(X_dev)\n",
    "Y_dev = np.array(Y_dev).reshape((nsamples, 1))\n",
    "np.save(f'./Act_train/XY_dev/X_dev.npy', X_dev)\n",
    "np.save(f'./Act_train/XY_dev/Y_dev.npy', Y_dev)"
   ]
  },
  {
   "cell_type": "code",
   "execution_count": null,
   "id": "fbf7a689",
   "metadata": {},
   "outputs": [],
   "source": [
    "X_dev = []\n",
    "Y_dev = []"
   ]
  },
  {
   "cell_type": "code",
   "execution_count": 26,
   "id": "a0bb9aca",
   "metadata": {},
   "outputs": [],
   "source": [
    "X_dev = np.load(\"./Act_train/XY_dev/X_dev.npy\")\n",
    "Y_dev = np.load(\"./Act_train/XY_dev/Y_dev.npy\")"
   ]
  },
  {
   "cell_type": "code",
   "execution_count": 38,
   "id": "2486381d",
   "metadata": {},
   "outputs": [
    {
     "name": "stdout",
     "output_type": "stream",
     "text": [
      "[1]\n",
      "<class 'numpy.ndarray'>\n",
      "(3000, 1)\n",
      "(3000, 22016)\n"
     ]
    }
   ],
   "source": [
    "print((Y_dev[0]))\n",
    "print(type(Y_dev))\n",
    "print(Y_dev.shape)\n",
    "print(X_dev.shape)\n"
   ]
  },
  {
   "cell_type": "code",
   "execution_count": 13,
   "id": "1c422316",
   "metadata": {},
   "outputs": [],
   "source": [
    "from tensorflow.keras.callbacks import ModelCheckpoint\n",
    "from tensorflow.keras.models import Model, load_model, Sequential\n",
    "from tensorflow.keras.layers import Dense, Activation, Dropout, Input, Masking, TimeDistributed, LSTM, Conv1D\n",
    "from tensorflow.keras.layers import GRU, Bidirectional, BatchNormalization, Reshape, Flatten\n",
    "from tensorflow.keras.optimizers import Adam"
   ]
  },
  {
   "cell_type": "code",
   "execution_count": null,
   "id": "6b7bb8e8",
   "metadata": {},
   "outputs": [],
   "source": [
    "model = load_model(\"modelo\")"
   ]
  },
  {
   "cell_type": "code",
   "execution_count": 19,
   "id": "cbfcf8dd",
   "metadata": {},
   "outputs": [],
   "source": [
    "def modelf(input_shape):\n",
    "    \"\"\"\n",
    "    Function creating the model's graph in Keras.\n",
    "    \n",
    "    Argument:\n",
    "    input_shape -- shape of the model's input data (using Keras conventions)\n",
    "\n",
    "    Returns:\n",
    "    model -- Keras model instance\n",
    "    \"\"\"\n",
    "    \n",
    "    X_input = Input(shape = input_shape)\n",
    "    \n",
    "    X = Reshape((Tx,n_freq))(X_input)\n",
    "    X = Conv1D(filters = 196, kernel_size=15, strides=4)(X)\n",
    "    X = BatchNormalization()(X)\n",
    "    X = Activation(\"relu\")(X)\n",
    "    X = Dropout(rate=0.8)(X)                                  \n",
    "\n",
    "    X = GRU(units = 128, return_sequences=True)(X)\n",
    "    X = Dropout(rate = 0.8)(X)\n",
    "    X = BatchNormalization()(X)                           \n",
    "    \n",
    "    X = GRU(units = 128, return_sequences=True)(X)\n",
    "    X = Dropout(rate = 0.8)(X)       \n",
    "    X = BatchNormalization()(X) \n",
    "\n",
    "    X = GRU(units = 60, return_sequences=True)(X)\n",
    "    X = Dropout(rate = 0.8)(X)       \n",
    "    X = BatchNormalization()(X)\n",
    "    \n",
    "    X = GRU(units = 60, return_sequences=True)(X)\n",
    "    X = Dropout(rate = 0.8)(X)       \n",
    "    X = BatchNormalization()(X) \n",
    "    \n",
    "    X = TimeDistributed(Dense(1, activation = \"sigmoid\"))(X) \n",
    "    X = Dense(1, activation = \"sigmoid\")(Flatten()(X))\n",
    "\n",
    "    model = Model(inputs = X_input, outputs = X)\n",
    "    \n",
    "    return model"
   ]
  },
  {
   "cell_type": "code",
   "execution_count": 20,
   "id": "865fab07",
   "metadata": {},
   "outputs": [],
   "source": [
    "model = modelf(input_shape = (X.shape[1]))"
   ]
  },
  {
   "cell_type": "code",
   "execution_count": 21,
   "id": "c9db27f5",
   "metadata": {},
   "outputs": [
    {
     "name": "stdout",
     "output_type": "stream",
     "text": [
      "Model: \"model_1\"\n",
      "_________________________________________________________________\n",
      " Layer (type)                Output Shape              Param #   \n",
      "=================================================================\n",
      " input_2 (InputLayer)        [(None, 22016)]           0         \n",
      "                                                                 \n",
      " reshape_1 (Reshape)         (None, 1376, 16)          0         \n",
      "                                                                 \n",
      " conv1d_1 (Conv1D)           (None, 341, 196)          47236     \n",
      "                                                                 \n",
      " batch_normalization_4 (Batc  (None, 341, 196)         784       \n",
      " hNormalization)                                                 \n",
      "                                                                 \n",
      " activation_1 (Activation)   (None, 341, 196)          0         \n",
      "                                                                 \n",
      " dropout_4 (Dropout)         (None, 341, 196)          0         \n",
      "                                                                 \n",
      " gru_3 (GRU)                 (None, 341, 128)          125184    \n",
      "                                                                 \n",
      " dropout_5 (Dropout)         (None, 341, 128)          0         \n",
      "                                                                 \n",
      " batch_normalization_5 (Batc  (None, 341, 128)         512       \n",
      " hNormalization)                                                 \n",
      "                                                                 \n",
      " gru_4 (GRU)                 (None, 341, 128)          99072     \n",
      "                                                                 \n",
      " dropout_6 (Dropout)         (None, 341, 128)          0         \n",
      "                                                                 \n",
      " batch_normalization_6 (Batc  (None, 341, 128)         512       \n",
      " hNormalization)                                                 \n",
      "                                                                 \n",
      " gru_5 (GRU)                 (None, 341, 60)           34200     \n",
      "                                                                 \n",
      " dropout_7 (Dropout)         (None, 341, 60)           0         \n",
      "                                                                 \n",
      " batch_normalization_7 (Batc  (None, 341, 60)          240       \n",
      " hNormalization)                                                 \n",
      "                                                                 \n",
      " gru_6 (GRU)                 (None, 341, 60)           21960     \n",
      "                                                                 \n",
      " dropout_8 (Dropout)         (None, 341, 60)           0         \n",
      "                                                                 \n",
      " batch_normalization_8 (Batc  (None, 341, 60)          240       \n",
      " hNormalization)                                                 \n",
      "                                                                 \n",
      " time_distributed_1 (TimeDis  (None, 341, 1)           61        \n",
      " tributed)                                                       \n",
      "                                                                 \n",
      " flatten_1 (Flatten)         (None, 341)               0         \n",
      "                                                                 \n",
      " dense_3 (Dense)             (None, 1)                 342       \n",
      "                                                                 \n",
      "=================================================================\n",
      "Total params: 330,343\n",
      "Trainable params: 329,199\n",
      "Non-trainable params: 1,144\n",
      "_________________________________________________________________\n"
     ]
    }
   ],
   "source": [
    "model.summary()"
   ]
  },
  {
   "cell_type": "code",
   "execution_count": 22,
   "id": "8306d13b",
   "metadata": {},
   "outputs": [],
   "source": [
    "opt = Adam(learning_rate=1e-6, beta_1=0.9, beta_2=0.999)\n",
    "model.compile(loss='binary_crossentropy', optimizer=opt, metrics=[\"accuracy\"])"
   ]
  },
  {
   "cell_type": "code",
   "execution_count": 23,
   "id": "32344ea2",
   "metadata": {
    "scrolled": false
   },
   "outputs": [
    {
     "name": "stdout",
     "output_type": "stream",
     "text": [
      "Epoch 1/50\n",
      "188/188 [==============================] - 80s 394ms/step - loss: 0.6657 - accuracy: 0.6097\n",
      "Epoch 2/50\n",
      "188/188 [==============================] - 73s 388ms/step - loss: 0.6563 - accuracy: 0.6170\n",
      "Epoch 3/50\n",
      "188/188 [==============================] - 74s 392ms/step - loss: 0.6550 - accuracy: 0.6287\n",
      "Epoch 4/50\n",
      "188/188 [==============================] - 73s 391ms/step - loss: 0.6395 - accuracy: 0.6517\n",
      "Epoch 5/50\n",
      "188/188 [==============================] - 74s 391ms/step - loss: 0.6357 - accuracy: 0.6713\n",
      "Epoch 6/50\n",
      "188/188 [==============================] - 73s 387ms/step - loss: 0.6315 - accuracy: 0.6853\n",
      "Epoch 7/50\n",
      "188/188 [==============================] - 73s 390ms/step - loss: 0.6204 - accuracy: 0.7043\n",
      "Epoch 8/50\n",
      "188/188 [==============================] - 73s 389ms/step - loss: 0.6169 - accuracy: 0.7030\n",
      "Epoch 9/50\n",
      "188/188 [==============================] - 73s 390ms/step - loss: 0.6107 - accuracy: 0.7123\n",
      "Epoch 10/50\n",
      "188/188 [==============================] - 73s 388ms/step - loss: 0.6081 - accuracy: 0.7253\n",
      "Epoch 11/50\n",
      "188/188 [==============================] - 73s 387ms/step - loss: 0.5975 - accuracy: 0.7453\n",
      "Epoch 12/50\n",
      "188/188 [==============================] - 73s 388ms/step - loss: 0.5999 - accuracy: 0.7473\n",
      "Epoch 13/50\n",
      "188/188 [==============================] - 74s 393ms/step - loss: 0.5900 - accuracy: 0.7613\n",
      "Epoch 14/50\n",
      "188/188 [==============================] - 73s 389ms/step - loss: 0.5931 - accuracy: 0.7547\n",
      "Epoch 15/50\n",
      "188/188 [==============================] - 73s 389ms/step - loss: 0.5799 - accuracy: 0.7660\n",
      "Epoch 16/50\n",
      "188/188 [==============================] - 73s 389ms/step - loss: 0.5788 - accuracy: 0.7633\n",
      "Epoch 17/50\n",
      "188/188 [==============================] - 73s 389ms/step - loss: 0.5726 - accuracy: 0.7763\n",
      "Epoch 18/50\n",
      "188/188 [==============================] - 73s 391ms/step - loss: 0.5689 - accuracy: 0.7700\n",
      "Epoch 19/50\n",
      "188/188 [==============================] - 74s 392ms/step - loss: 0.5685 - accuracy: 0.7823\n",
      "Epoch 20/50\n",
      "188/188 [==============================] - 74s 391ms/step - loss: 0.5622 - accuracy: 0.7830\n",
      "Epoch 21/50\n",
      "188/188 [==============================] - 73s 391ms/step - loss: 0.5606 - accuracy: 0.7850\n",
      "Epoch 22/50\n",
      "188/188 [==============================] - 73s 389ms/step - loss: 0.5564 - accuracy: 0.7850\n",
      "Epoch 23/50\n",
      "188/188 [==============================] - 74s 394ms/step - loss: 0.5515 - accuracy: 0.7930\n",
      "Epoch 24/50\n",
      "188/188 [==============================] - 74s 391ms/step - loss: 0.5487 - accuracy: 0.7923\n",
      "Epoch 25/50\n",
      "188/188 [==============================] - 73s 390ms/step - loss: 0.5490 - accuracy: 0.7930\n",
      "Epoch 26/50\n",
      "188/188 [==============================] - 73s 390ms/step - loss: 0.5441 - accuracy: 0.7973\n",
      "Epoch 27/50\n",
      "188/188 [==============================] - 74s 395ms/step - loss: 0.5482 - accuracy: 0.7927\n",
      "Epoch 28/50\n",
      "188/188 [==============================] - 74s 392ms/step - loss: 0.5404 - accuracy: 0.7983\n",
      "Epoch 29/50\n",
      "188/188 [==============================] - 73s 390ms/step - loss: 0.5323 - accuracy: 0.7963\n",
      "Epoch 30/50\n",
      "188/188 [==============================] - 73s 389ms/step - loss: 0.5355 - accuracy: 0.7953\n",
      "Epoch 31/50\n",
      "188/188 [==============================] - 74s 391ms/step - loss: 0.5312 - accuracy: 0.7977\n",
      "Epoch 32/50\n",
      "188/188 [==============================] - 74s 391ms/step - loss: 0.5326 - accuracy: 0.7973\n",
      "Epoch 33/50\n",
      "188/188 [==============================] - 74s 392ms/step - loss: 0.5281 - accuracy: 0.7983\n",
      "Epoch 34/50\n",
      "188/188 [==============================] - 73s 390ms/step - loss: 0.5286 - accuracy: 0.7987\n",
      "Epoch 35/50\n",
      "188/188 [==============================] - 74s 392ms/step - loss: 0.5266 - accuracy: 0.7993\n",
      "Epoch 36/50\n",
      "188/188 [==============================] - 74s 392ms/step - loss: 0.5277 - accuracy: 0.8000\n",
      "Epoch 37/50\n",
      "188/188 [==============================] - 74s 392ms/step - loss: 0.5224 - accuracy: 0.8010\n",
      "Epoch 38/50\n",
      "188/188 [==============================] - 74s 391ms/step - loss: 0.5236 - accuracy: 0.8003\n",
      "Epoch 39/50\n",
      "188/188 [==============================] - 73s 391ms/step - loss: 0.5194 - accuracy: 0.8007\n",
      "Epoch 40/50\n",
      "188/188 [==============================] - 73s 391ms/step - loss: 0.5226 - accuracy: 0.8007\n",
      "Epoch 41/50\n",
      "188/188 [==============================] - 74s 392ms/step - loss: 0.5170 - accuracy: 0.8007\n",
      "Epoch 42/50\n",
      "188/188 [==============================] - 74s 392ms/step - loss: 0.5182 - accuracy: 0.7993\n",
      "Epoch 43/50\n",
      "188/188 [==============================] - 73s 391ms/step - loss: 0.5149 - accuracy: 0.8013\n",
      "Epoch 44/50\n",
      "188/188 [==============================] - 73s 391ms/step - loss: 0.5172 - accuracy: 0.8003\n",
      "Epoch 45/50\n",
      "188/188 [==============================] - 74s 391ms/step - loss: 0.5181 - accuracy: 0.8007\n",
      "Epoch 46/50\n",
      "188/188 [==============================] - 74s 391ms/step - loss: 0.5178 - accuracy: 0.8003\n",
      "Epoch 47/50\n",
      "188/188 [==============================] - 74s 391ms/step - loss: 0.5163 - accuracy: 0.8010\n",
      "Epoch 48/50\n",
      "188/188 [==============================] - 74s 395ms/step - loss: 0.5133 - accuracy: 0.8013\n",
      "Epoch 49/50\n",
      "188/188 [==============================] - 74s 392ms/step - loss: 0.5132 - accuracy: 0.8007\n",
      "Epoch 50/50\n",
      "188/188 [==============================] - 74s 392ms/step - loss: 0.5113 - accuracy: 0.8007\n"
     ]
    },
    {
     "data": {
      "text/plain": [
       "<keras.callbacks.History at 0x16682aed990>"
      ]
     },
     "execution_count": 23,
     "metadata": {},
     "output_type": "execute_result"
    }
   ],
   "source": [
    "model.fit(X, Y, batch_size = 16, epochs=50)"
   ]
  },
  {
   "cell_type": "code",
   "execution_count": 27,
   "id": "f4d69bc6",
   "metadata": {},
   "outputs": [
    {
     "name": "stdout",
     "output_type": "stream",
     "text": [
      "94/94 [==============================] - 15s 145ms/step - loss: 0.4955 - accuracy: 0.8057\n",
      "Dev set accuracy =  0.8056666851043701\n"
     ]
    }
   ],
   "source": [
    "loss, acc, = model.evaluate(X_dev, Y_dev)\n",
    "print(\"Dev set accuracy = \", acc)"
   ]
  },
  {
   "cell_type": "code",
   "execution_count": 25,
   "id": "dc806dfc",
   "metadata": {},
   "outputs": [],
   "source": [
    "X, Y= [], []"
   ]
  },
  {
   "cell_type": "code",
   "execution_count": null,
   "id": "d9cf87f2",
   "metadata": {},
   "outputs": [],
   "source": [
    "model.save(\"modelo\")"
   ]
  },
  {
   "cell_type": "code",
   "execution_count": 32,
   "id": "22f64d7b",
   "metadata": {},
   "outputs": [],
   "source": [
    "frames = []\n",
    "for i in range(0, int(RATE / CHUNK * RECORD_SECONDS)):\n",
    "        data = inputs.read(CHUNK)\n",
    "        frames.append(data)\n",
    "aux = np.frombuffer(np.array(frames))"
   ]
  },
  {
   "cell_type": "code",
   "execution_count": 33,
   "id": "0fa55908",
   "metadata": {},
   "outputs": [
    {
     "name": "stdout",
     "output_type": "stream",
     "text": [
      "1/1 [==============================] - 0s 52ms/step\n"
     ]
    }
   ],
   "source": [
    "predictions = model.predict(aux.reshape((1,aux.shape[0])))"
   ]
  },
  {
   "cell_type": "code",
   "execution_count": 34,
   "id": "e9aeaa9d",
   "metadata": {},
   "outputs": [
    {
     "data": {
      "text/plain": [
       "array([[0.7733404]], dtype=float32)"
      ]
     },
     "execution_count": 34,
     "metadata": {},
     "output_type": "execute_result"
    }
   ],
   "source": [
    "1-predictions"
   ]
  },
  {
   "cell_type": "code",
   "execution_count": null,
   "id": "cbc9264e",
   "metadata": {},
   "outputs": [],
   "source": []
  }
 ],
 "metadata": {
  "kernelspec": {
   "display_name": "Python 3 (ipykernel)",
   "language": "python",
   "name": "python3"
  },
  "language_info": {
   "codemirror_mode": {
    "name": "ipython",
    "version": 3
   },
   "file_extension": ".py",
   "mimetype": "text/x-python",
   "name": "python",
   "nbconvert_exporter": "python",
   "pygments_lexer": "ipython3",
   "version": "3.10.2"
  }
 },
 "nbformat": 4,
 "nbformat_minor": 5
}
