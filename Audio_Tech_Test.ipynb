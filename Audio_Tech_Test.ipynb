{
 "cells": [
  {
   "cell_type": "code",
   "execution_count": 2,
   "id": "0a8119dc",
   "metadata": {},
   "outputs": [],
   "source": [
    "import pyaudio\n",
    "import time\n",
    "import sys\n",
    "import numpy as np\n",
    "from IPython.display import clear_output"
   ]
  },
  {
   "cell_type": "code",
   "execution_count": 3,
   "id": "9caea901",
   "metadata": {},
   "outputs": [],
   "source": [
    "CHUNK = 1024\n",
    "FORMAT = pyaudio.paInt16\n",
    "CHANNELS = 1\n",
    "RATE = 44100\n",
    "RECORD_SECONDS = 1.01\n",
    "\n",
    "p = pyaudio.PyAudio()\n",
    "\n",
    "inputs = p.open(format=FORMAT,\n",
    "                channels=CHANNELS,\n",
    "                rate=RATE,\n",
    "                input=True,\n",
    "                frames_per_buffer=CHUNK)\n",
    "outputs = p.open(format=FORMAT,\n",
    "                channels=CHANNELS,\n",
    "                rate=RATE,\n",
    "                output=True,\n",
    "                frames_per_buffer=CHUNK)\n",
    "#stream.stop_stream()\n",
    "\n",
    "flag = True"
   ]
  },
  {
   "cell_type": "code",
   "execution_count": 4,
   "id": "264aeb5c",
   "metadata": {},
   "outputs": [
    {
     "name": "stdout",
     "output_type": "stream",
     "text": [
      "2048\n",
      "2048\n",
      "2048\n",
      "2048\n",
      "2048\n",
      "2048\n",
      "2048\n",
      "2048\n",
      "2048\n",
      "2048\n",
      "2048\n",
      "2048\n",
      "2048\n",
      "2048\n",
      "2048\n",
      "2048\n",
      "2048\n",
      "2048\n",
      "2048\n",
      "2048\n",
      "2048\n",
      "2048\n",
      "2048\n",
      "2048\n",
      "2048\n",
      "2048\n",
      "2048\n",
      "2048\n",
      "2048\n",
      "2048\n",
      "2048\n",
      "2048\n",
      "2048\n",
      "2048\n",
      "2048\n",
      "2048\n",
      "2048\n",
      "2048\n",
      "2048\n",
      "2048\n",
      "2048\n",
      "2048\n",
      "2048\n",
      "43\n"
     ]
    }
   ],
   "source": [
    "frames = []\n",
    "for i in range(0, int(RATE / CHUNK * RECORD_SECONDS)):\n",
    "        data = inputs.read(CHUNK)\n",
    "        print(len(data))\n",
    "        frames.append(data)\n",
    "print(len(frames))\n",
    "for i in range(len(frames)):\n",
    "    outputs.write(frames[i])"
   ]
  },
  {
   "cell_type": "code",
   "execution_count": 12,
   "id": "3fbd4d13",
   "metadata": {},
   "outputs": [
    {
     "name": "stdout",
     "output_type": "stream",
     "text": [
      "2036\n"
     ]
    }
   ],
   "source": [
    "print(len(frames[1]))"
   ]
  },
  {
   "cell_type": "code",
   "execution_count": 21,
   "id": "94295e99",
   "metadata": {
    "scrolled": false
   },
   "outputs": [
    {
     "name": "stdout",
     "output_type": "stream",
     "text": [
      "(43,)\n"
     ]
    }
   ],
   "source": [
    "test = np.array(frames)\n",
    "print(test.shape)"
   ]
  },
  {
   "cell_type": "code",
   "execution_count": 22,
   "id": "f6ece4ba",
   "metadata": {},
   "outputs": [],
   "source": [
    "for i in range(len(frames)):\n",
    "    outputs.write(frames[i])"
   ]
  },
  {
   "cell_type": "code",
   "execution_count": 8,
   "id": "7713e8ba",
   "metadata": {},
   "outputs": [
    {
     "name": "stdout",
     "output_type": "stream",
     "text": [
      "* done recording 15.npy\n"
     ]
    }
   ],
   "source": [
    "# activation\n",
    "for i in range(15):\n",
    "    frames = []\n",
    "    print(\"* recording\")\n",
    "    for j in range(0, int(RATE / CHUNK * RECORD_SECONDS)):\n",
    "        data = inputs.read(CHUNK)\n",
    "        frames.append(data)\n",
    "    test = np.array(frames)\n",
    "    np.save(f'./Act_train/activation/' + str(i+1) + '.npy', test)\n",
    "    clear_output(wait=True)\n",
    "    print(\"* done recording \"+ str(i+1) + \".npy\")"
   ]
  },
  {
   "cell_type": "code",
   "execution_count": 9,
   "id": "fdd5a9c6",
   "metadata": {},
   "outputs": [],
   "source": [
    "for i in range(15):\n",
    "    test = np.load(\"./Act_train/activation/\" + str(i+1) + \".npy\")\n",
    "    for j in range(len(test)):\n",
    "        outputs.write(test[j])"
   ]
  },
  {
   "cell_type": "code",
   "execution_count": 15,
   "id": "1389e4ff",
   "metadata": {},
   "outputs": [
    {
     "name": "stdout",
     "output_type": "stream",
     "text": [
      "* done recording 40.npy\n"
     ]
    }
   ],
   "source": [
    "# negatives\n",
    "offset = 30\n",
    "for i in range(10):\n",
    "    frames = []\n",
    "    print(\"* recording\")\n",
    "    for j in range(0, int(RATE / CHUNK * RECORD_SECONDS)):\n",
    "        print(j)\n",
    "        data = inputs.read(CHUNK)\n",
    "        frames.append(data)\n",
    "    test = np.array(frames)\n",
    "    np.save(f'./Act_train/negative/' + str(i+1+offset) + '.npy', test)\n",
    "    clear_output(wait=True)\n",
    "    print(\"* done recording \"+ str(i+1+offset) + \".npy\")"
   ]
  },
  {
   "cell_type": "code",
   "execution_count": 17,
   "id": "39a24e69",
   "metadata": {},
   "outputs": [],
   "source": [
    "for i in range(30,40):\n",
    "    test = np.load(\"./Act_train/negative/\" + str(i+1) + \".npy\")\n",
    "    for j in range(len(test)):\n",
    "        outputs.write(test[j])"
   ]
  },
  {
   "cell_type": "code",
   "execution_count": 24,
   "id": "21a49d39",
   "metadata": {},
   "outputs": [],
   "source": [
    "inputs.close()\n",
    "outputs.close()\n",
    "p.terminate()"
   ]
  },
  {
   "cell_type": "markdown",
   "id": "36f727a4",
   "metadata": {},
   "source": [
    "Primera parte del proyecto completo: lectura de un input"
   ]
  },
  {
   "cell_type": "markdown",
   "id": "f898be37",
   "metadata": {},
   "source": [
    "# ----------------------------------------------------------------------------------------\n",
    "# ----------------------------------------------------------------------------------------"
   ]
  }
 ],
 "metadata": {
  "kernelspec": {
   "display_name": "Python 3 (ipykernel)",
   "language": "python",
   "name": "python3"
  },
  "language_info": {
   "codemirror_mode": {
    "name": "ipython",
    "version": 3
   },
   "file_extension": ".py",
   "mimetype": "text/x-python",
   "name": "python",
   "nbconvert_exporter": "python",
   "pygments_lexer": "ipython3",
   "version": "3.10.2"
  }
 },
 "nbformat": 4,
 "nbformat_minor": 5
}
