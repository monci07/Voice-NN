{
 "cells": [
  {
   "cell_type": "code",
   "execution_count": null,
   "id": "1e60731c",
   "metadata": {},
   "outputs": [],
   "source": [
    "import numpy as np\n",
    "from pydub import AudioSegment\n",
    "import random\n",
    "import sys\n",
    "import io\n",
    "import os\n",
    "from os import path\n",
    "import glob\n",
    "import IPython\n",
    "import matplotlib.pyplot as plt\n",
    "import soundfile as sf\n",
    "\n",
    "%matplotlib inline"
   ]
  },
  {
   "cell_type": "code",
   "execution_count": null,
   "id": "e732cf78",
   "metadata": {},
   "outputs": [],
   "source": [
    "IPython.display.Audio(\"./Act_train/activation/5.wav\")"
   ]
  },
  {
   "cell_type": "code",
   "execution_count": null,
   "id": "4e84591b",
   "metadata": {},
   "outputs": [],
   "source": [
    "IPython.display.Audio(\"./Act_train/negative/15.wav\")"
   ]
  },
  {
   "cell_type": "code",
   "execution_count": null,
   "id": "7688c46c",
   "metadata": {},
   "outputs": [],
   "source": [
    "act = []\n",
    "for i in range(15):\n",
    "    act.append(\"./Act_train/activation/\"+str(i+1)+\".wav\")"
   ]
  },
  {
   "cell_type": "code",
   "execution_count": null,
   "id": "74de8316",
   "metadata": {},
   "outputs": [],
   "source": [
    "neg = []\n",
    "for i in range(15):\n",
    "    neg.append(\"./Act_train/negative/\"+str(i+1)+\".wav\")"
   ]
  },
  {
   "cell_type": "code",
   "execution_count": null,
   "id": "a0d2e5ff",
   "metadata": {},
   "outputs": [],
   "source": [
    "print(len(act))\n",
    "print(len(neg))\n",
    "print(len(act[0]))\n",
    "print(len(neg[0]))\n"
   ]
  },
  {
   "cell_type": "code",
   "execution_count": null,
   "id": "7dd799ee",
   "metadata": {},
   "outputs": [],
   "source": [
    "Tx = 551 # The number of time steps input to the model from the spectrogram\n",
    "n_freq = 101 # Number of frequencies input to the model at each time step of the spectrogram\n",
    "Ty = 1375 # The number of time steps in the output of our model"
   ]
  },
  {
   "cell_type": "code",
   "execution_count": null,
   "id": "7c6dfd96",
   "metadata": {},
   "outputs": [],
   "source": [
    "def get_wav_info(wav_file):\n",
    "    data, rate = sf.read(wav_file)\n",
    "    return data, rate\n",
    "\n",
    "def graph_spectrogram(wav_file):\n",
    "    data, rate = get_wav_info(wav_file)\n",
    "    nfft = 200 # Length of each window segment\n",
    "    fs = Tx # Sampling frequencies\n",
    "    noverlap = 120 # Overlap between windows\n",
    "    nchannels = data.ndim\n",
    "    if nchannels == 1:\n",
    "        pxx, freqs, bins, im = plt.specgram(data, nfft, fs, noverlap = noverlap)\n",
    "    elif nchannels == 2:\n",
    "        pxx, freqs, bins, im = plt.specgram(data[:,0], nfft, fs, noverlap = noverlap)\n",
    "    return pxx\n",
    "\n",
    "def create_training_example(activates, negatives):\n",
    "    \"\"\"\n",
    "    Creates a training example with a given background, activates, and negatives.\n",
    "    \n",
    "    Arguments:\n",
    "    background -- a 10 second background audio recording\n",
    "    activates -- a list of audio segments of the word \"activate\"\n",
    "    negatives -- a list of audio segments of random words that are not \"activate\"\n",
    "    Ty -- The number of time steps in the output\n",
    "\n",
    "    Returns:\n",
    "    x -- the spectrogram of the training example\n",
    "    y -- the label at each time step of the spectrogram\n",
    "    \"\"\"\n",
    "\n",
    "    y = 0\n",
    "    x = None\n",
    "    flag = np.random.randint(1, 7)\n",
    "    if flag%3==0:\n",
    "        act = activates[np.random.choice(len(activates))]\n",
    "        x = graph_spectrogram(act)\n",
    "        y = 1\n",
    "    else:\n",
    "        neg = negatives[np.random.choice(len(negatives))]\n",
    "        x = graph_spectrogram(neg)    \n",
    "    \n",
    "    return x, y"
   ]
  },
  {
   "cell_type": "code",
   "execution_count": null,
   "id": "e1ca29e2",
   "metadata": {},
   "outputs": [],
   "source": [
    "x, y = create_training_example(act, neg)\n",
    "print(type(x))\n",
    "print(x.shape)\n",
    "print(type(y))"
   ]
  },
  {
   "cell_type": "code",
   "execution_count": null,
   "id": "b6036166",
   "metadata": {},
   "outputs": [],
   "source": [
    "np.random.seed(4543)\n",
    "nsamples = 5\n",
    "X = []\n",
    "Y = []\n",
    "for i in range(0, nsamples):\n",
    "    if i%100 == 0:\n",
    "        print(i)\n",
    "    x, y = create_training_example(act, neg)\n",
    "    X.append(x.swapaxes(0,1))\n",
    "    Y.append(y)\n",
    "X = np.array(X)\n",
    "Y = np.array(Y)"
   ]
  },
  {
   "cell_type": "code",
   "execution_count": null,
   "id": "7572b1ca",
   "metadata": {
    "scrolled": true
   },
   "outputs": [],
   "source": [
    "print((X[0].shape))"
   ]
  },
  {
   "cell_type": "code",
   "execution_count": null,
   "id": "90eae90d",
   "metadata": {},
   "outputs": [],
   "source": [
    "print(len(X))\n",
    "print(type(Y))\n",
    "print(X.shape)\n",
    "print(Y.shape)\n",
    "print(type(X[0]))\n",
    "print((Y[0]))"
   ]
  },
  {
   "cell_type": "code",
   "execution_count": null,
   "id": "f4d2ee89",
   "metadata": {},
   "outputs": [],
   "source": [
    "# Save the data for further uses\n",
    "np.save(f'./Act_train/XY_train/X.npy', X)\n",
    "np.save(f'./Act_train/XY_train/Y.npy', Y)\n",
    "# Load the preprocessed training examples\n",
    "#X = np.load(\"./Act_train/XY_train/X.npy\")\n",
    "#Y = np.load(\"./Act_train/XY_train/Y.npy\")"
   ]
  },
  {
   "cell_type": "code",
   "execution_count": null,
   "id": "7f6a055d",
   "metadata": {},
   "outputs": [],
   "source": [
    "np.random.seed(4543)\n",
    "nsamples = 2000\n",
    "X_dev = []\n",
    "Y_dev = []\n",
    "for i in range(0, nsamples):\n",
    "    if i%100 == 0:\n",
    "        print(i)\n",
    "    x, y = create_training_example(act, neg)\n",
    "    X_dev.append(x.swapaxes(0,1))\n",
    "    Y_dev.append(y)\n",
    "X_dev = np.array(X_dev, dtype=\"numpy.ndarray\")\n",
    "Y_dev = np.array(Y_dev)\n",
    "np.save(f'./Act_train/XY_dev/X_dev.npy', X_dev)\n",
    "np.save(f'./Act_train/XY_dev/Y_dev.npy', Y_dev)"
   ]
  },
  {
   "cell_type": "code",
   "execution_count": null,
   "id": "a0bb9aca",
   "metadata": {},
   "outputs": [],
   "source": [
    "X_dev = np.load(\"./Act_train/XY_train/X_dev.npy\")\n",
    "Y_dev = np.load(\"./Act_train/XY_train/Y_dev.npy\")"
   ]
  },
  {
   "cell_type": "code",
   "execution_count": null,
   "id": "2486381d",
   "metadata": {},
   "outputs": [],
   "source": [
    "print((Y_dev[0]))\n",
    "print(type(Y_dev))"
   ]
  },
  {
   "cell_type": "code",
   "execution_count": null,
   "id": "1c422316",
   "metadata": {},
   "outputs": [],
   "source": [
    "from tensorflow.keras.callbacks import ModelCheckpoint\n",
    "from tensorflow.keras.models import Model, load_model, Sequential\n",
    "from tensorflow.keras.layers import Dense, Activation, Dropout, Input, Masking, TimeDistributed, LSTM, Conv1D\n",
    "from tensorflow.keras.layers import GRU, Bidirectional, BatchNormalization, Reshape\n",
    "from tensorflow.keras.optimizers import Adam"
   ]
  },
  {
   "cell_type": "code",
   "execution_count": null,
   "id": "cbfcf8dd",
   "metadata": {},
   "outputs": [],
   "source": [
    "def modelf(input_shape):\n",
    "    \"\"\"\n",
    "    Function creating the model's graph in Keras.\n",
    "    \n",
    "    Argument:\n",
    "    input_shape -- shape of the model's input data (using Keras conventions)\n",
    "\n",
    "    Returns:\n",
    "    model -- Keras model instance\n",
    "    \"\"\"\n",
    "    \n",
    "    X_input = Input(shape = input_shape)\n",
    "    \n",
    "    X = Conv1D(filters = 196, kernel_size=15, strides=4)(X_input)\n",
    "    X = BatchNormalization()(X)\n",
    "    X = Activation(\"relu\")(X)\n",
    "    X = Dropout(rate=0.8)(X)                                  \n",
    "\n",
    "    X = GRU(units = 128, return_sequences=True)(X)\n",
    "    X = Dropout(rate = 0.8)(X)\n",
    "    X = BatchNormalization()(X)                           \n",
    "    \n",
    "    X = GRU(units = 128, return_sequences=True)(X)\n",
    "    X = Dropout(rate = 0.8)(X)       \n",
    "    X = BatchNormalization()(X) \n",
    "    X = Dropout(rate = 0.8)(X)                                 \n",
    "    \n",
    "    X = TimeDistributed(Dense(1, activation = \"sigmoid\"))(X) \n",
    "\n",
    "    model = Model(inputs = X_input, outputs = X)\n",
    "    \n",
    "    return model"
   ]
  },
  {
   "cell_type": "code",
   "execution_count": null,
   "id": "865fab07",
   "metadata": {},
   "outputs": [],
   "source": [
    "model = modelf(input_shape = (Tx, n_freq))"
   ]
  },
  {
   "cell_type": "code",
   "execution_count": null,
   "id": "c9db27f5",
   "metadata": {},
   "outputs": [],
   "source": [
    "model.summary()"
   ]
  },
  {
   "cell_type": "code",
   "execution_count": null,
   "id": "8306d13b",
   "metadata": {},
   "outputs": [],
   "source": [
    "opt = Adam(learning_rate=1e-6, beta_1=0.9, beta_2=0.999)\n",
    "model.compile(loss='binary_crossentropy', optimizer=opt, metrics=[\"accuracy\"])"
   ]
  },
  {
   "cell_type": "code",
   "execution_count": null,
   "id": "384bc502",
   "metadata": {},
   "outputs": [],
   "source": [
    "print(Y.shape)"
   ]
  },
  {
   "cell_type": "code",
   "execution_count": null,
   "id": "32344ea2",
   "metadata": {},
   "outputs": [],
   "source": [
    "\n",
    "model.fit(X, Y, batch_size = 16, epochs=100)"
   ]
  },
  {
   "cell_type": "code",
   "execution_count": null,
   "id": "358f0159",
   "metadata": {},
   "outputs": [],
   "source": [
    "print(type(X))"
   ]
  },
  {
   "cell_type": "code",
   "execution_count": null,
   "id": "f4d69bc6",
   "metadata": {},
   "outputs": [],
   "source": [
    "loss, acc, = model.evaluate(X_dev, Y_dev)\n",
    "print(\"Dev set accuracy = \", acc)"
   ]
  },
  {
   "cell_type": "code",
   "execution_count": null,
   "id": "3cc03f12",
   "metadata": {},
   "outputs": [],
   "source": [
    "aux = "
   ]
  },
  {
   "cell_type": "code",
   "execution_count": null,
   "id": "f317c3a0",
   "metadata": {},
   "outputs": [],
   "source": [
    "print(type(aux))\n",
    "print(len(aux))"
   ]
  },
  {
   "cell_type": "code",
   "execution_count": null,
   "id": "d9cf87f2",
   "metadata": {},
   "outputs": [],
   "source": []
  }
 ],
 "metadata": {
  "kernelspec": {
   "display_name": "Python 3 (ipykernel)",
   "language": "python",
   "name": "python3"
  },
  "language_info": {
   "codemirror_mode": {
    "name": "ipython",
    "version": 3
   },
   "file_extension": ".py",
   "mimetype": "text/x-python",
   "name": "python",
   "nbconvert_exporter": "python",
   "pygments_lexer": "ipython3",
   "version": "3.10.2"
  }
 },
 "nbformat": 4,
 "nbformat_minor": 5
}
